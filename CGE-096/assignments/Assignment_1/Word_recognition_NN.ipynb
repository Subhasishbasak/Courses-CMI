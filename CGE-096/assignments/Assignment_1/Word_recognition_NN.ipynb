{
 "cells": [
  {
   "cell_type": "markdown",
   "metadata": {},
   "source": [
    "## Natural_Language_Processing/Assignment_2/MDS201803"
   ]
  },
  {
   "cell_type": "markdown",
   "metadata": {},
   "source": [
    "Here we start with a Simple Neural Network framework with only 1 hidden layers. Our Neural network has the following configuration :\n",
    " - Input Layer :\n",
    "   - Contains One-Hot vector representations of 5 letter English words  \n",
    "   - Number of nodes : 26\n",
    " - Hidden Layer :\n",
    "   - Only one hidden layer\n",
    "   - Number of nodes : 10\n",
    " - Output Layer :\n",
    "   - Contains the One hot vector representation of 128 words in our vocabulary\n",
    "   - Number of nodes : 128\n",
    "<br>   \n",
    "Our aim is to recognize the words, i.e. in given a $26 \\times 1$ input vector (representing a 5 letter English word) our Neural Network should output the One hot vector (a $128 \\times 1$ vector representing a single word in a vocabulary of 128 English word) corresponding to that word in the vocabulary."
   ]
  },
  {
   "cell_type": "code",
   "execution_count": 1,
   "metadata": {},
   "outputs": [],
   "source": [
    "# Basic Imports\n",
    "\n",
    "import numpy as np\n",
    "import string\n",
    "import matplotlib.pyplot as plt"
   ]
  },
  {
   "cell_type": "code",
   "execution_count": 2,
   "metadata": {},
   "outputs": [],
   "source": [
    "vocabulary = [\"about\", \"above\",\"abuse\",\"added\",\"adult\",\"after\",\"again\",\"agent\",\"agree\",\n",
    "             \"beach\", \"began\", \"begin\", \"being\", \"below\", \"bible\", \"bills\", \"birds\", \"birth\",\n",
    "             \"calls\", \"cards\", \"carry\", \"cases\", \"catch\", \"cause\", \"cells\", \"chain\", \"chair\",\n",
    "             \"dates\", \"death\", \"depth\", \"doing\", \"doors\", \"doubt\", \"draft\", \"drawn\",\"dream\",\n",
    "             \"eight\", \"email\", \"empty\", \"ended\", \"enemy\", \"enjoy\", \"enter\", \"entry\", \"equal\",\n",
    "             \"facts\", \"faith\", \"feels\", \"fewer\", \"field\", \"fifth\", \"fight\", \"filed\", \"files\",\n",
    "             \"gifts\", \"girls\", \"given\", \"gives\", \"glass\", \"goals\", \"going\", \"goods\", \"grade\",\n",
    "             \"hands\", \"happy\", \"heads\", \"heard\", \"heart\", \"heavy\", \"hello\", \"helps\", \"hence\",\n",
    "             \"ideal\", \"ideas\", \"image\", \"index\", \"inner\", \"input\", \"issue\", \"items\", \"joint\",\n",
    "             \"judge\", \"juice\", \"keeps\", \"kinds\", \"knife\", \"known\", \"knows\", \"label\", \"labor\",\n",
    "             \"large\", \"later\", \"layer\", \"leads\", \"learn\", \"least\", \"leave\", \"legal\", \"level\",\n",
    "             \"magic\", \"major\", \"makes\", \"match\", \"maybe\", \"meals\", \"means\", \"meant\", \"media\",\n",
    "             \"never\", \"newly\", \"night\", \"noise\", \"north\", \"noted\", \"notes\", \"nurse\", \"occur\",\n",
    "             \"older\", \"opens\", \"order\", \"other\", \"owned\", \"owner\", \"pages\", \"paint\",\"panel\", \"paper\", \"parks\"]"
   ]
  },
  {
   "cell_type": "markdown",
   "metadata": {},
   "source": [
    "#### One Hot Encoding"
   ]
  },
  {
   "cell_type": "code",
   "execution_count": 3,
   "metadata": {},
   "outputs": [],
   "source": [
    "# Function for generating One-Hot vector encoding of the English words & Alphabets\n",
    "\n",
    "def one_hot_encode(w):\n",
    "    \n",
    "    output = np.zeros(26)\n",
    "    test_list = list(string.ascii_lowercase) \n",
    "    \n",
    "    for i in list(w):\n",
    "        index = test_list.index(i)\n",
    "        output[index] = output[index] + 1\n",
    "    \n",
    "    # takes the average of the one hot vectors of each alphabet of the word\n",
    "    output = output/5\n",
    "    \n",
    "    return output"
   ]
  },
  {
   "cell_type": "markdown",
   "metadata": {},
   "source": [
    "#### Creating the Input matrix of shape $128 \\times 26$"
   ]
  },
  {
   "cell_type": "code",
   "execution_count": 4,
   "metadata": {},
   "outputs": [],
   "source": [
    "# The following code stacks all the input One hot vectors and constructs the input matrix\n",
    "\n",
    "X = None\n",
    "for i in vocabulary:\n",
    "    x = one_hot_encode(i)\n",
    "    try:\n",
    "        X = np.row_stack([X, x])\n",
    "    except ValueError:\n",
    "        X = x"
   ]
  },
  {
   "cell_type": "markdown",
   "metadata": {},
   "source": [
    "#### Creating the output matrix of shape $128 \\times 128$"
   ]
  },
  {
   "cell_type": "code",
   "execution_count": 5,
   "metadata": {},
   "outputs": [],
   "source": [
    "y = np.identity(128)"
   ]
  },
  {
   "cell_type": "code",
   "execution_count": 6,
   "metadata": {},
   "outputs": [],
   "source": [
    "# This function learns parameters for the neural network and returns the model.\n",
    "\n",
    "#  iterations : Number of passes through the training data for gradient descent\n",
    "#  print_loss: If True, print the loss every 1000 iterations\n",
    "\n",
    "def Neural_network(hidden_dim, iterations):\n",
    "    \n",
    "    input_dim = 26           # input layer dimensionality\n",
    "    hidden_dim = 10          # hidden layer dimensionality\n",
    "    output_dim = 128         # output layer dimensionality\n",
    "\n",
    "    # parameters Gradient descent \n",
    "\n",
    "    eta = 0.01           # learning rate for gradient descent\n",
    "\n",
    "    # First we initialize the parameters to random values. \n",
    "    np.random.seed(0)\n",
    "    W1 = np.random.randn(input_dim, hidden_dim)    # First weight matrix of shape 26 x 10 \n",
    "    b1 = np.zeros((1, hidden_dim))                 # bias vector of shape 10 x 1\n",
    "    W2 = np.random.randn(hidden_dim, output_dim)   # Second weight matrix of shape 10 x 128\n",
    "    b2 = np.zeros((1, output_dim))                 # bias vector of shape 128 x 1\n",
    "\n",
    "    # We build the Neural Network model as a dictionary storing the parameters (Weights & Biases respectively)\n",
    "    param_dict = {}\n",
    "\n",
    "    # We use the Gradient descent algorithm to estimate the parameters by updating each batch\n",
    "    for i in range(0, iterations):\n",
    "\n",
    "        # Forward propagation\n",
    "        \n",
    "        z1 = X.dot(W1) + b1          # z1 obtained by multiplyng weight W1 and adding bias b1 with input\n",
    "        a1 = np.tanh(z1)             # a1 obtained after applying tanh() activation to z1\n",
    "        z2 = a1.dot(W2) + b2         # z2 obtained by multiplyng weight W2 and adding bias b2 with a1\n",
    "        exp_scores = np.exp(z2)           \n",
    "        sftmax = exp_scores / np.sum(exp_scores, axis=1, keepdims=True)  # softmax scores to generate probabilities\n",
    "\n",
    "        # Backpropagation\n",
    "        \n",
    "        delta3 = sftmax - y            # taking difference of observed any predicted node values\n",
    "        dW2 = (a1.T).dot(delta3)\n",
    "        db2 = np.sum(delta3, axis=0, keepdims=True)\n",
    "        delta2 = delta3.dot(W2.T) * (1 - np.power(a1, 2))\n",
    "        dW1 = np.dot(X.T, delta2)\n",
    "        db1 = np.sum(delta2, axis=0)\n",
    "\n",
    "        # Gradient descent parameter update\n",
    "        \n",
    "        W1 = W1 - eta * dW1\n",
    "        b1 = b1 - eta * db1\n",
    "        W2 = W2 - eta * dW2\n",
    "        b2 = b2 - eta * db2\n",
    "\n",
    "        # Updating the model with new parameters\n",
    "        \n",
    "        param_dict = {'W1': W1, 'b1': b1, 'W2': W2, 'b2': b2}\n",
    "\n",
    "    return param_dict\n",
    "                  "
   ]
  },
  {
   "cell_type": "code",
   "execution_count": 7,
   "metadata": {},
   "outputs": [],
   "source": [
    "# Function to predict the output\n",
    "\n",
    "def predict(param_dict, x):\n",
    "    \n",
    "    # takes the weights and biases from the trained model\n",
    "    \n",
    "    W1, b1, W2, b2 = param_dict['W1'], param_dict['b1'], param_dict['W2'], param_dict['b2']\n",
    "    \n",
    "    # Forward propagation\n",
    "    \n",
    "    z1 = x.dot(W1) + b1\n",
    "    a1 = np.tanh(z1)\n",
    "    z2 = a1.dot(W2) + b2\n",
    "    exp_scores = np.exp(z2)\n",
    "    probs = exp_scores / np.sum(exp_scores, axis=1, keepdims=True)\n",
    "    \n",
    "    return np.argmax(probs, axis=1)"
   ]
  },
  {
   "cell_type": "markdown",
   "metadata": {},
   "source": [
    "#### Training the model"
   ]
  },
  {
   "cell_type": "code",
   "execution_count": 52,
   "metadata": {},
   "outputs": [],
   "source": [
    "model = Neural_network(10, 500)"
   ]
  },
  {
   "cell_type": "markdown",
   "metadata": {},
   "source": [
    "Using the accuracy function we compute the accuracy of the trained model."
   ]
  },
  {
   "cell_type": "code",
   "execution_count": 9,
   "metadata": {},
   "outputs": [],
   "source": [
    "# Function to compute the accuracy of the model\n",
    "# To check Training accuracy keep, train = True\n",
    "# To check Test accuracy keep, train = False, test = input dictionary\n",
    "# To print the false positive results keep the \"print_false\" flag on\n",
    "\n",
    "def accuracy(model, train = True, test = None, print_false = True):\n",
    "\n",
    "    if train:\n",
    "        count = 0\n",
    "        for i in vocabulary:\n",
    "            if predict(model, one_hot_encode(i))[0] == vocabulary.index(i):\n",
    "                count += 1\n",
    "            else:\n",
    "                if print_false:\n",
    "                    print(\"input word : %s, predicted word : %s, predicted index : %i, actual index : %i\" %(i, vocabulary[predict(model, one_hot_encode(i))[0]], predict(model, one_hot_encode(i))[0], vocabulary.index(i)))\n",
    "        return count/len(vocabulary)\n",
    "        \n",
    "    else:\n",
    "        count = 0\n",
    "        for i in list(test.keys()):\n",
    "            if vocabulary[predict(model, one_hot_encode(i))[0]] == test[i]:\n",
    "                count += 1\n",
    "                if print_false:\n",
    "                    print(\"input word : %s, predicted word : %s, expected word : %s, CORRECT PREDICTION\" %(i, vocabulary[predict(model, one_hot_encode(i))[0]], test[i]))\n",
    "            else:\n",
    "                if print_false:\n",
    "                    print(\"input word : %s, predicted word : %s, expected word : %s\" %(i, vocabulary[predict(model, one_hot_encode(i))[0]], test[i]))\n",
    "            \n",
    "        return count/len(list(test.keys()))\n",
    "    \n",
    "                  "
   ]
  },
  {
   "cell_type": "code",
   "execution_count": 14,
   "metadata": {},
   "outputs": [],
   "source": [
    "# This function is used to plot the accuracy values corresponding the iteration values\n",
    "# This function finds the iteration size for which the two consecutive accuracies differ no more than 0.00001 such that\n",
    "# the accuracy is at least greater than some threshold or iteration number is less than some threshold\n",
    "\n",
    "def plot_accuracy(hdim , max_acc = 0.99, max_iter = 2500):\n",
    "    \n",
    "    acc_list = []\n",
    "    itr_list = []\n",
    "    iteration = 1\n",
    "    acc_1 = accuracy(Neural_network(hdim, iteration), train = True, print_false= False)\n",
    "    acc_2 = accuracy(Neural_network(hdim, iteration + 50), train = True, print_false= False)\n",
    "\n",
    "    while abs(acc_1-acc_2)>0.00001 or acc_1 < 0.99 and iteration < 2500:\n",
    "\n",
    "        iteration += 50\n",
    "        acc_1 = accuracy(Neural_network(hdim, iteration), train = True, print_false= False)\n",
    "        acc_2 = accuracy(Neural_network(hdim, iteration + 50), train = True, print_false= False)\n",
    "        acc_list.append(acc_1)\n",
    "        itr_list.append(iteration)\n",
    "        \n",
    "    print(\"accuracy achieved : \",acc_1)\n",
    "    print(\"best iteration :\", iteration) \n",
    "    \n",
    "    return acc_list, itr_list"
   ]
  },
  {
   "cell_type": "code",
   "execution_count": 13,
   "metadata": {},
   "outputs": [
    {
     "name": "stdout",
     "output_type": "stream",
     "text": [
      "accuracy achieved :  0.984375\n",
      "best iteration : 2501\n"
     ]
    }
   ],
   "source": [
    "accuracy_list, iteration_list = plot_accuracy(10)"
   ]
  },
  {
   "cell_type": "markdown",
   "metadata": {},
   "source": [
    "Thus we see that the best accuracy achieved after 2500 iteration (i.e. 2500 batch gradiant descent updates) is $98.43 \\%$"
   ]
  },
  {
   "cell_type": "code",
   "execution_count": 15,
   "metadata": {},
   "outputs": [
    {
     "data": {
      "text/plain": [
       "[<matplotlib.lines.Line2D at 0x7f9dfba97278>]"
      ]
     },
     "execution_count": 15,
     "metadata": {},
     "output_type": "execute_result"
    },
    {
     "data": {
      "image/png": "[encoded data removed]",
      "text/plain": [
       "<Figure size 432x288 with 1 Axes>"
      ]
     },
     "metadata": {
      "needs_background": "light"
     },
     "output_type": "display_data"
    }
   ],
   "source": [
    "# Plotting Training accuracy w.r.t iteration \n",
    "\n",
    "fig = plt.figure()\n",
    "plt.xlabel(\"iteration\")\n",
    "plt.ylabel(\"training accuracy\")\n",
    "plt.plot(iteration_list,accuracy_list, '-')\n"
   ]
  },
  {
   "cell_type": "markdown",
   "metadata": {},
   "source": [
    "From above we can see that the accuracy improves till $500$ iterations and almost stops improving after $700-1000$ iterations. This graph helps us to identify a suitable iteration value."
   ]
  },
  {
   "cell_type": "code",
   "execution_count": 53,
   "metadata": {},
   "outputs": [
    {
     "name": "stdout",
     "output_type": "stream",
     "text": [
      "input word : being, predicted word : begin, predicted index : 11, actual index : 12\n",
      "input word : field, predicted word : filed, predicted index : 52, actual index : 49\n",
      "input word : ideas, predicted word : ended, predicted index : 39, actual index : 73\n"
     ]
    },
    {
     "data": {
      "text/plain": [
       "0.9765625"
      ]
     },
     "execution_count": 53,
     "metadata": {},
     "output_type": "execute_result"
    }
   ],
   "source": [
    "accuracy(model, train = True)"
   ]
  },
  {
   "cell_type": "markdown",
   "metadata": {},
   "source": [
    "We train the Neural Network with $10$ nodes in the hidden layer and for $500$ iterations. After some trial and parameter tuning we found that the training accuracy of the model is $97.65 \\%$. The words it misclassifies are as above. "
   ]
  },
  {
   "cell_type": "markdown",
   "metadata": {},
   "source": [
    "#### Model Testing with mis-spelled words"
   ]
  },
  {
   "cell_type": "code",
   "execution_count": 57,
   "metadata": {},
   "outputs": [],
   "source": [
    "test_dict = {\"ajent\" : \"agent\",\n",
    "             \"abouu\" : \"about\", \n",
    "             \"indes\" : \"index\", \n",
    "             \"abain\" : \"again\", \n",
    "             \"layer\" : \"later\", \n",
    "             \"aappy\" : \"happy\",\n",
    "             \"march\" : \"match\",\n",
    "             \"majik\" : \"magic\",\n",
    "             \"layre\" : \"layer\",\n",
    "             \"gless\" : \"glass\",\n",
    "             \"billo\" : \"bills\",\n",
    "             \"other\" : \"othre\",\n",
    "             \"juict\" : \"juice\",\n",
    "             \"feelz\" : \"feels\",\n",
    "             \"knofe\" : \"knife\"}"
   ]
  },
  {
   "cell_type": "code",
   "execution_count": 58,
   "metadata": {},
   "outputs": [
    {
     "name": "stdout",
     "output_type": "stream",
     "text": [
      "input word : ajent, predicted word : paint, expected word : agent\n",
      "input word : abouu, predicted word : about, expected word : about, CORRECT PREDICTION\n",
      "input word : indes, predicted word : field, expected word : index\n",
      "input word : abain, predicted word : again, expected word : again, CORRECT PREDICTION\n",
      "input word : layer, predicted word : layer, expected word : later\n",
      "input word : aappy, predicted word : happy, expected word : happy, CORRECT PREDICTION\n",
      "input word : march, predicted word : match, expected word : match, CORRECT PREDICTION\n",
      "input word : majik, predicted word : again, expected word : magic\n",
      "input word : layre, predicted word : layer, expected word : layer, CORRECT PREDICTION\n",
      "input word : gless, predicted word : girls, expected word : glass\n",
      "input word : billo, predicted word : bills, expected word : bills, CORRECT PREDICTION\n",
      "input word : other, predicted word : other, expected word : othre\n",
      "input word : juict, predicted word : juice, expected word : juice, CORRECT PREDICTION\n",
      "input word : feelz, predicted word : feels, expected word : feels, CORRECT PREDICTION\n",
      "input word : knofe, predicted word : knife, expected word : knife, CORRECT PREDICTION\n"
     ]
    },
    {
     "data": {
      "text/plain": [
       "0.6"
      ]
     },
     "execution_count": 58,
     "metadata": {},
     "output_type": "execute_result"
    }
   ],
   "source": [
    "accuracy(model, train = False, test = test_dict)"
   ]
  },
  {
   "cell_type": "markdown",
   "metadata": {},
   "source": [
    "As we can see our trained model is able to predict the correct words for the mis-spelled inputs. We used a test dataset of size $15$ mis-spelled words. The test accuracy obtained was $60 \\%$. "
   ]
  },
  {
   "cell_type": "code",
   "execution_count": null,
   "metadata": {},
   "outputs": [],
   "source": []
  },
  {
   "cell_type": "code",
   "execution_count": null,
   "metadata": {},
   "outputs": [],
   "source": []
  }
 ],
 "metadata": {
  "kernelspec": {
   "display_name": "Python 3",
   "language": "python",
   "name": "python3"
  },
  "language_info": {
   "codemirror_mode": {
    "name": "ipython",
    "version": 3
   },
   "file_extension": ".py",
   "mimetype": "text/x-python",
   "name": "python",
   "nbconvert_exporter": "python",
   "pygments_lexer": "ipython3",
   "version": "3.6.9"
  }
 },
 "nbformat": 4,
 "nbformat_minor": 2
}
