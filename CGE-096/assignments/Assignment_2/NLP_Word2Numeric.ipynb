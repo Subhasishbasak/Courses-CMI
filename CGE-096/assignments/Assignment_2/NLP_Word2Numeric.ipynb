{
 "cells": [
  {
   "cell_type": "markdown",
   "metadata": {},
   "source": [
    "# Natural_Language_Processing/Assignment_1/MDS201803"
   ]
  },
  {
   "cell_type": "markdown",
   "metadata": {},
   "source": [
    "Basic imports"
   ]
  },
  {
   "cell_type": "code",
   "execution_count": 332,
   "metadata": {},
   "outputs": [],
   "source": [
    "import numpy as np"
   ]
  },
  {
   "cell_type": "markdown",
   "metadata": {},
   "source": [
    "Dictionary Creation"
   ]
  },
  {
   "cell_type": "code",
   "execution_count": 57,
   "metadata": {},
   "outputs": [],
   "source": [
    "# This dictionary stores the words which are the building blocks of numerical figures\n",
    "# We are considering numbers in the range 0-9999999\n",
    "\n",
    "numeric_1D = {'zero' : 0, 'one' : 1, 'two' : 2, 'three' : 3, 'four' : 4, 'five' : 5, 'six' : 6, 'seven' : 7, 'eight' : 8, 'nine' : 9}\n",
    "numeric_2D_1 = {'ten' : 10, 'eleven' : 11, 'twelve' : 12, 'thirteen' : 13, 'fourteen' : 14, 'fifteen' : 15, 'sixteen' : 16, 'seventeen' : 17, 'eighteen' : 18, 'nineteen' : 19} \n",
    "numeric_2D_2 = {'twenty' : 20, 'thirty' : 30, 'fourty' : 40, 'fifty' : 50, 'sixty' : 60, 'seventy' : 70, 'eighty' : 80, 'ninety' : 90}\n",
    "\n",
    "numeric_dict = {**numeric_1D, **numeric_2D_1, **numeric_2D_2}"
   ]
  },
  {
   "cell_type": "code",
   "execution_count": 3,
   "metadata": {},
   "outputs": [],
   "source": [
    "# This dictionary contains the denominations required to write the word forms of numerical in the desired range\n",
    "\n",
    "denomination_dict = {'hundred' : 100, 'thousand' : 1000, 'lakh' : 100000, 'million' : 1000000}"
   ]
  },
  {
   "cell_type": "code",
   "execution_count": 4,
   "metadata": {},
   "outputs": [],
   "source": [
    "# This is the list containing the conjunctions required to build the words\n",
    "\n",
    "conjunction_list = ['and', 'point', 'by']"
   ]
  },
  {
   "cell_type": "code",
   "execution_count": 564,
   "metadata": {},
   "outputs": [],
   "source": [
    "# This dictionary contains the basic physical quantities units\n",
    "\n",
    "base_units_dict = {'seconds' : 's', 'meters' : 'm', 'kilogram' : 'kg', 'kilos' : 'kg', 'ampere' : 'A', 'kelvin' : 'K', \n",
    "                   'mole' : 'mol', 'candela' : 'cd'}"
   ]
  },
  {
   "cell_type": "code",
   "execution_count": 569,
   "metadata": {},
   "outputs": [],
   "source": [
    "# This dictionary contains the derived physical quantities units\n",
    "\n",
    "special_units_dict = {'radian' : 'rad', 'steradian' : 'sr', 'hertz' : 'Hz', 'newton' : 'N', 'pascal' : 'Pa',\n",
    "                      'joule' : 'J', 'watt' : 'W', 'coulomb' : 'C', 'volt' : 'V', 'farad' : 'F', 'ohm' : 'Ohm', \n",
    "                      'siemens' : 'S', 'weber' : 'Wb', 'tesla' : 'T', 'henry' : 'H', 'degree Celsius' : '°C',\n",
    "                      'lumen' : 'lm', 'lux' : 'lx', 'becquerel' : 'Bq', 'gray' : 'Gy', 'sievert' : 'Sv', 'katal' : 'kat'}\n",
    "\n",
    "all_units_dict = {**base_units_dict , **special_units_dict}"
   ]
  },
  {
   "cell_type": "code",
   "execution_count": 540,
   "metadata": {},
   "outputs": [],
   "source": [
    "# This function does the actual elementary computation required for our purpose\n",
    "# It multiplies the denominations appropriately with the numericals \n",
    "# It takes care of the combinatio of the 1D and 2D numericals\n",
    "\n",
    "def Evaluate(l):\n",
    "    output = 0\n",
    "    if len(l) == 1:\n",
    "        return numeric_dict[l[0]]\n",
    "    elif l[0] in numeric_1D.keys() and l[1] in numeric_1D.keys():\n",
    "        index = len(l)\n",
    "        for i in l:\n",
    "            output = output + numeric_1D[i]*10**(index-1)\n",
    "            index = index - 1\n",
    "    elif l[0] in numeric_1D.keys() and l[1] in list(numeric_2D_1.keys()) + list(numeric_2D_2.keys()):\n",
    "        output = output + numeric_1D[l[0]]*100 \n",
    "        for i in l[1:]:\n",
    "            output = output + numeric_dict[i]\n",
    "    elif l[1] in denomination_dict.keys():\n",
    "        output = output + denomination_dict[l[1]] * numeric_dict[l[0]]\n",
    "    elif l[0] in numeric_2D_2.keys() and l[1] in numeric_1D.keys() and len(l) == 2:\n",
    "        output = output + numeric_dict[l[0]] + numeric_dict[l[1]]\n",
    "    elif l[-1] in denomination_dict.keys():\n",
    "        output = output + Evaluate(l[:-1])*denomination_dict[l[-1]]\n",
    "    return output "
   ]
  },
  {
   "cell_type": "code",
   "execution_count": 488,
   "metadata": {},
   "outputs": [],
   "source": [
    "# This function splits the sequence of words by the denomination/Conjunction words\n",
    "# It Splits the given sequence into elementary postions each of which is transformed into numericals using \"Evaluate\"\n",
    "\n",
    "# This function identifes and adds the 'and' conjunction whereever required (for generalization purposes)\n",
    "# So that for e.g. ['One hundred one'] & ['One hundred and one'] are treated equally\n",
    "\n",
    "def Split(l):\n",
    "    output = []\n",
    "    last_index = 0\n",
    "    l_copy = l[:]\n",
    "    last = False\n",
    "    for i in l:\n",
    "        if i in conjunction_list or i in denomination_dict.keys():\n",
    "            index = l.index(i)\n",
    "            if i in conjunction_list:\n",
    "                if last :\n",
    "                    last_index = index+1\n",
    "                else:    \n",
    "                    output.append(Evaluate(l[last_index:index]))\n",
    "                    output.append(i)\n",
    "                    last_index = index+1\n",
    "            else:\n",
    "                last = True\n",
    "                output.append(Evaluate(l[last_index:index+1]))\n",
    "                output.append('and')\n",
    "                last_index = index+1\n",
    "        else:\n",
    "            last = False\n",
    "\n",
    "    output.append(Evaluate(l[last_index:]))\n",
    "    return output"
   ]
  },
  {
   "cell_type": "code",
   "execution_count": 550,
   "metadata": {},
   "outputs": [],
   "source": [
    "# Takes into account the conjunctions and combines the words accordingly\n",
    "\n",
    "def Compute(l):\n",
    "    output = 0\n",
    "    for i in l:\n",
    "        if isinstance(i,int):\n",
    "            output = output + i\n",
    "        \n",
    "        # The conjunction 'and' simply denotes addition of the two portions \n",
    "        \n",
    "        elif i == 'and':\n",
    "            pass\n",
    "        \n",
    "        # The conjunction 'point' denotes addition of the decimal version of the latter portion with the 1st part\n",
    "        \n",
    "        elif i == 'point':\n",
    "            index = l.index(i)\n",
    "            size = len(str(l[index+1:][0]))\n",
    "            output = output + l[index+1:][0]/10**size\n",
    "            break\n",
    "            \n",
    "        # The conjunction 'by' denotes division of the first portion by the later one\n",
    "            \n",
    "        elif i == 'by' :\n",
    "            index = l.index(i)\n",
    "            output = output/l[index+1:][0]\n",
    "            break\n",
    "            \n",
    "    return output"
   ]
  },
  {
   "cell_type": "code",
   "execution_count": 553,
   "metadata": {},
   "outputs": [],
   "source": [
    "# This function converts the word array to numeric\n",
    "# Uses the functions Split --> Evaluate --> Compute\n",
    "# It also transforms the units to the acronyms\n",
    "\n",
    "def Convert(l):\n",
    "    if l[-1] in all_units_dict.keys():\n",
    "        temp = l[:-1]\n",
    "        output = [Compute(Split(temp)), all_units_dict[l[-1]]]\n",
    "    else:\n",
    "        output = Compute(Split(l))\n",
    "    return output   "
   ]
  },
  {
   "cell_type": "code",
   "execution_count": null,
   "metadata": {},
   "outputs": [],
   "source": [
    "# The following function takes a text input (string) and does the following :\n",
    "# -> separates the words w.r.t blankspace (\" \")\n",
    "# -> Scans the list of words once and searches for the keywords in the \"numeric_dict\"\n",
    "# -> It also takes into account the conjunctions used in creating the numeric words as well\n",
    "# -> Finally outputs the string with numericals and unit acronyms\n",
    "\n",
    "def Extract_n_replace(l):\n",
    "    \n",
    "    # \"list_words\" denotes the blankspace separated words in the given array\n",
    "    # \"temp\" is a list of list that stores the list of words which construct a perticular numerical figure\n",
    "    # \"item_index\" stores the indices of the numerical figure as a whole\n",
    "    \n",
    "    lower = l.lower()\n",
    "    \n",
    "    output = []\n",
    "    list_words = list(lower.split(\" \"))\n",
    "    main = l.split(\" \")\n",
    "    copy = list_words.copy()\n",
    "    \n",
    "    temp = []\n",
    "    last = False\n",
    "    item_index = 0\n",
    "    \n",
    "    for i in copy:\n",
    "\n",
    "        if i in numeric_dict.keys() or (i in conjunction_list and last) or i in denomination_dict.keys():\n",
    "        # This condition checks whether the word is numeric, a numeric conjunction or a numeric denomination\n",
    "        # Once the condition is satisfied it turns the \"last\" flag to True\n",
    "        # The \"last\" flag is used to denote that a sequence of numeric words has started\n",
    "        \n",
    "            last = True\n",
    "            try:\n",
    "                temp[item_index].append(i)\n",
    "            except IndexError:\n",
    "                temp.append([i]) \n",
    "                \n",
    "        elif i in all_units_dict.keys():\n",
    "        # This condition takes into account the physical quantities unit (if any) present\n",
    "        \n",
    "            temp[item_index].append(i)\n",
    "            for j in list(Convert(temp[item_index])):\n",
    "                output.append(j)\n",
    "            item_index = item_index + 1\n",
    "            last = False\n",
    "        \n",
    "        elif last:            \n",
    "        # This condition terminates the current numeric word \n",
    "            for j in [Convert(temp[item_index])]:\n",
    "                output.append(j)\n",
    "            output.append(i)\n",
    "            item_index = item_index + 1\n",
    "            last = False\n",
    "        \n",
    "        else:\n",
    "            output.append(main[copy.index(i)])\n",
    "        \n",
    "    print(' '.join(str(word) for word in output))"
   ]
  },
  {
   "cell_type": "markdown",
   "metadata": {},
   "source": [
    "### A few testing examples"
   ]
  },
  {
   "cell_type": "code",
   "execution_count": 706,
   "metadata": {},
   "outputs": [
    {
     "name": "stdout",
     "output_type": "stream",
     "text": [
      "A car starts from rest and accelerates uniformly over A time of 5.21 s for A distance of 110 kg . Determine the acceleration of the car.\n"
     ]
    }
   ],
   "source": [
    "Extract_n_replace('A car starts from rest and accelerates uniformly over a time of five point two one seconds for a distance of one hundred and ten kilos . Determine the acceleration of the car.')"
   ]
  },
  {
   "cell_type": "code",
   "execution_count": 702,
   "metadata": {},
   "outputs": [
    {
     "name": "stdout",
     "output_type": "stream",
     "text": [
      "An airplane accelerates down a runway at 3.2 m/s2 for 32.8 s until is finally lifts off the ground. Determine the distance traveled before takeoff.\n"
     ]
    }
   ],
   "source": [
    "Extract_n_replace('An airplane accelerates down a runway at three point two zero m/s2 for thirty two point eight s until is finally lifts off the ground. Determine the distance traveled before takeoff.')"
   ]
  },
  {
   "cell_type": "code",
   "execution_count": 703,
   "metadata": {},
   "outputs": [
    {
     "name": "stdout",
     "output_type": "stream",
     "text": [
      "Upton Chuck is riding the Giant Drop at Great America. If Upton free falls for 2.6 seconds, what will be his final velocity and how far will he fall? \n"
     ]
    }
   ],
   "source": [
    "Extract_n_replace('Upton Chuck is riding the Giant Drop at Great America. If Upton free falls for two point six zero seconds, what will be his final velocity and how far will he fall? ')"
   ]
  },
  {
   "cell_type": "code",
   "execution_count": 707,
   "metadata": {},
   "outputs": [
    {
     "name": "stdout",
     "output_type": "stream",
     "text": [
      "A race car accelerates uniformly from 18.5 m/s to 46.1 m/s in 2.4 s . Determine the acceleration of the car and the distance traveled. \n"
     ]
    }
   ],
   "source": [
    "Extract_n_replace('A race car accelerates uniformly from Eighteen point five m/s to fourty six point one m/s in two point four seconds . Determine the acceleration of the car and the distance traveled. ')"
   ]
  },
  {
   "cell_type": "code",
   "execution_count": 708,
   "metadata": {},
   "outputs": [
    {
     "name": "stdout",
     "output_type": "stream",
     "text": [
      "A bike accelerates uniformly from rest to A speed of 7.1 m/s over A distance of 35.4 m. Determine the acceleration of the bike. \n"
     ]
    }
   ],
   "source": [
    "Extract_n_replace('A bike accelerates uniformly from rest to a speed of seven point one m/s over a distance of thirty five point four m. Determine the acceleration of the bike. ')"
   ]
  },
  {
   "cell_type": "code",
   "execution_count": null,
   "metadata": {},
   "outputs": [],
   "source": []
  }
 ],
 "metadata": {
  "kernelspec": {
   "display_name": "Python 3",
   "language": "python",
   "name": "python3"
  },
  "language_info": {
   "codemirror_mode": {
    "name": "ipython",
    "version": 3
   },
   "file_extension": ".py",
   "mimetype": "text/x-python",
   "name": "python",
   "nbconvert_exporter": "python",
   "pygments_lexer": "ipython3",
   "version": "3.6.9"
  }
 },
 "nbformat": 4,
 "nbformat_minor": 2
}
