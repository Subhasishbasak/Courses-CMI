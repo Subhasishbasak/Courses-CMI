{
  "nbformat": 4,
  "nbformat_minor": 0,
  "metadata": {
    "colab": {
      "name": "REG_Assignment_2_MDS201803.ipynb",
      "provenance": [],
      "collapsed_sections": []
    },
    "kernelspec": {
      "name": "python3",
      "display_name": "Python 3"
    }
  },
  "cells": [
    {
      "cell_type": "code",
      "metadata": {
        "id": "X-Z7TxWzLm-C",
        "colab_type": "code",
        "colab": {}
      },
      "source": [
        "import pandas as pd\n",
        "import numpy as np\n",
        "from sklearn import datasets, linear_model, metrics "
      ],
      "execution_count": 0,
      "outputs": []
    },
    {
      "cell_type": "code",
      "metadata": {
        "id": "7Eqag00PLwH9",
        "colab_type": "code",
        "outputId": "cc2c903a-e878-42e0-f0a2-f0dbfdfcdefc",
        "colab": {
          "base_uri": "https://localhost:8080/",
          "height": 34
        }
      },
      "source": [
        "from google.colab import drive\n",
        "drive.mount('/content/drive')"
      ],
      "execution_count": 0,
      "outputs": [
        {
          "output_type": "stream",
          "text": [
            "Drive already mounted at /content/drive; to attempt to forcibly remount, call drive.mount(\"/content/drive\", force_remount=True).\n"
          ],
          "name": "stdout"
        }
      ]
    },
    {
      "cell_type": "code",
      "metadata": {
        "id": "6wNrTE0dMS3M",
        "colab_type": "code",
        "colab": {}
      },
      "source": [
        "data = pd.read_csv('/content/drive/My Drive/cheese.csv')"
      ],
      "execution_count": 0,
      "outputs": []
    },
    {
      "cell_type": "code",
      "metadata": {
        "id": "H1pKJB86Msik",
        "colab_type": "code",
        "outputId": "a8983a9e-3e5c-41ae-a19a-3562d4873930",
        "colab": {
          "base_uri": "https://localhost:8080/",
          "height": 206
        }
      },
      "source": [
        "data.head()"
      ],
      "execution_count": 0,
      "outputs": [
        {
          "output_type": "execute_result",
          "data": {
            "text/html": [
              "<div>\n",
              "<style scoped>\n",
              "    .dataframe tbody tr th:only-of-type {\n",
              "        vertical-align: middle;\n",
              "    }\n",
              "\n",
              "    .dataframe tbody tr th {\n",
              "        vertical-align: top;\n",
              "    }\n",
              "\n",
              "    .dataframe thead th {\n",
              "        text-align: right;\n",
              "    }\n",
              "</style>\n",
              "<table border=\"1\" class=\"dataframe\">\n",
              "  <thead>\n",
              "    <tr style=\"text-align: right;\">\n",
              "      <th></th>\n",
              "      <th>RETAILER</th>\n",
              "      <th>VOLUME</th>\n",
              "      <th>DISP</th>\n",
              "      <th>PRICE</th>\n",
              "    </tr>\n",
              "  </thead>\n",
              "  <tbody>\n",
              "    <tr>\n",
              "      <th>0</th>\n",
              "      <td>LOS ANGELES - LUCKY</td>\n",
              "      <td>21374</td>\n",
              "      <td>0.162000</td>\n",
              "      <td>2.578460</td>\n",
              "    </tr>\n",
              "    <tr>\n",
              "      <th>1</th>\n",
              "      <td>LOS ANGELES - RALPHS</td>\n",
              "      <td>6427</td>\n",
              "      <td>0.124113</td>\n",
              "      <td>3.727867</td>\n",
              "    </tr>\n",
              "    <tr>\n",
              "      <th>2</th>\n",
              "      <td>LOS ANGELES - VONS</td>\n",
              "      <td>17302</td>\n",
              "      <td>0.102000</td>\n",
              "      <td>2.711421</td>\n",
              "    </tr>\n",
              "    <tr>\n",
              "      <th>3</th>\n",
              "      <td>CHICAGO - DOMINICK</td>\n",
              "      <td>13561</td>\n",
              "      <td>0.027591</td>\n",
              "      <td>2.651206</td>\n",
              "    </tr>\n",
              "    <tr>\n",
              "      <th>4</th>\n",
              "      <td>CHICAGO - JEWEL</td>\n",
              "      <td>42774</td>\n",
              "      <td>0.090613</td>\n",
              "      <td>1.986674</td>\n",
              "    </tr>\n",
              "  </tbody>\n",
              "</table>\n",
              "</div>"
            ],
            "text/plain": [
              "               RETAILER  VOLUME      DISP     PRICE\n",
              "0   LOS ANGELES - LUCKY   21374  0.162000  2.578460\n",
              "1  LOS ANGELES - RALPHS    6427  0.124113  3.727867\n",
              "2    LOS ANGELES - VONS   17302  0.102000  2.711421\n",
              "3    CHICAGO - DOMINICK   13561  0.027591  2.651206\n",
              "4       CHICAGO - JEWEL   42774  0.090613  1.986674"
            ]
          },
          "metadata": {
            "tags": []
          },
          "execution_count": 4
        }
      ]
    },
    {
      "cell_type": "markdown",
      "metadata": {
        "id": "leZk1fbQ78ro",
        "colab_type": "text"
      },
      "source": [
        "Splitting the RETAILER column into COMPANY and CITY"
      ]
    },
    {
      "cell_type": "code",
      "metadata": {
        "id": "LU3bI-RPTEpO",
        "colab_type": "code",
        "colab": {}
      },
      "source": [
        "reailer_list = list(data['RETAILER'])\n",
        "city = []\n",
        "company = []\n",
        "for i in reailer_list:\n",
        "    city.append(i.split('-')[0])\n",
        "    company.append(i.split('-')[1])"
      ],
      "execution_count": 0,
      "outputs": []
    },
    {
      "cell_type": "code",
      "metadata": {
        "id": "wAuCs7gpTF2j",
        "colab_type": "code",
        "outputId": "f7cfdcd2-aa40-42bb-e0b3-7cd3aee5e162",
        "colab": {
          "base_uri": "https://localhost:8080/",
          "height": 206
        }
      },
      "source": [
        "data['CITY'] = city\n",
        "data['COMPANY'] = company\n",
        "data = data.drop('RETAILER', axis=1)\n",
        "data.head()"
      ],
      "execution_count": 0,
      "outputs": [
        {
          "output_type": "execute_result",
          "data": {
            "text/html": [
              "<div>\n",
              "<style scoped>\n",
              "    .dataframe tbody tr th:only-of-type {\n",
              "        vertical-align: middle;\n",
              "    }\n",
              "\n",
              "    .dataframe tbody tr th {\n",
              "        vertical-align: top;\n",
              "    }\n",
              "\n",
              "    .dataframe thead th {\n",
              "        text-align: right;\n",
              "    }\n",
              "</style>\n",
              "<table border=\"1\" class=\"dataframe\">\n",
              "  <thead>\n",
              "    <tr style=\"text-align: right;\">\n",
              "      <th></th>\n",
              "      <th>VOLUME</th>\n",
              "      <th>DISP</th>\n",
              "      <th>PRICE</th>\n",
              "      <th>CITY</th>\n",
              "      <th>COMPANY</th>\n",
              "    </tr>\n",
              "  </thead>\n",
              "  <tbody>\n",
              "    <tr>\n",
              "      <th>0</th>\n",
              "      <td>21374</td>\n",
              "      <td>0.162000</td>\n",
              "      <td>2.578460</td>\n",
              "      <td>LOS ANGELES</td>\n",
              "      <td>LUCKY</td>\n",
              "    </tr>\n",
              "    <tr>\n",
              "      <th>1</th>\n",
              "      <td>6427</td>\n",
              "      <td>0.124113</td>\n",
              "      <td>3.727867</td>\n",
              "      <td>LOS ANGELES</td>\n",
              "      <td>RALPHS</td>\n",
              "    </tr>\n",
              "    <tr>\n",
              "      <th>2</th>\n",
              "      <td>17302</td>\n",
              "      <td>0.102000</td>\n",
              "      <td>2.711421</td>\n",
              "      <td>LOS ANGELES</td>\n",
              "      <td>VONS</td>\n",
              "    </tr>\n",
              "    <tr>\n",
              "      <th>3</th>\n",
              "      <td>13561</td>\n",
              "      <td>0.027591</td>\n",
              "      <td>2.651206</td>\n",
              "      <td>CHICAGO</td>\n",
              "      <td>DOMINICK</td>\n",
              "    </tr>\n",
              "    <tr>\n",
              "      <th>4</th>\n",
              "      <td>42774</td>\n",
              "      <td>0.090613</td>\n",
              "      <td>1.986674</td>\n",
              "      <td>CHICAGO</td>\n",
              "      <td>JEWEL</td>\n",
              "    </tr>\n",
              "  </tbody>\n",
              "</table>\n",
              "</div>"
            ],
            "text/plain": [
              "   VOLUME      DISP     PRICE          CITY    COMPANY\n",
              "0   21374  0.162000  2.578460  LOS ANGELES       LUCKY\n",
              "1    6427  0.124113  3.727867  LOS ANGELES      RALPHS\n",
              "2   17302  0.102000  2.711421  LOS ANGELES        VONS\n",
              "3   13561  0.027591  2.651206      CHICAGO    DOMINICK\n",
              "4   42774  0.090613  1.986674      CHICAGO       JEWEL"
            ]
          },
          "metadata": {
            "tags": []
          },
          "execution_count": 6
        }
      ]
    },
    {
      "cell_type": "markdown",
      "metadata": {
        "id": "w1j5aMVu8UmK",
        "colab_type": "text"
      },
      "source": [
        "EDA"
      ]
    },
    {
      "cell_type": "code",
      "metadata": {
        "id": "XZc4qAsATF8q",
        "colab_type": "code",
        "outputId": "c8613139-56b7-4874-ba11-8f6100daad21",
        "colab": {
          "base_uri": "https://localhost:8080/",
          "height": 104
        }
      },
      "source": [
        "data['COMPANY'].describe()"
      ],
      "execution_count": 0,
      "outputs": [
        {
          "output_type": "execute_result",
          "data": {
            "text/plain": [
              "count            5555\n",
              "unique             50\n",
              "top        WINN DIXIE\n",
              "freq              723\n",
              "Name: COMPANY, dtype: object"
            ]
          },
          "metadata": {
            "tags": []
          },
          "execution_count": 7
        }
      ]
    },
    {
      "cell_type": "code",
      "metadata": {
        "id": "ECFxJs088b32",
        "colab_type": "code",
        "outputId": "a6cc0e9c-8554-4bda-89b4-c97dbf56546c",
        "colab": {
          "base_uri": "https://localhost:8080/",
          "height": 104
        }
      },
      "source": [
        "data['CITY'].describe()"
      ],
      "execution_count": 0,
      "outputs": [
        {
          "output_type": "execute_result",
          "data": {
            "text/plain": [
              "count           5555\n",
              "unique            46\n",
              "top       CHARLOTTE \n",
              "freq             244\n",
              "Name: CITY, dtype: object"
            ]
          },
          "metadata": {
            "tags": []
          },
          "execution_count": 8
        }
      ]
    },
    {
      "cell_type": "markdown",
      "metadata": {
        "id": "TAlZnqE4Bzz9",
        "colab_type": "text"
      },
      "source": [
        "### Estimating the Demand curve"
      ]
    },
    {
      "cell_type": "markdown",
      "metadata": {
        "id": "sBp5sucE8-It",
        "colab_type": "text"
      },
      "source": [
        "We use the followig linear regression model to estimate the demand curve :\n",
        "\\begin{equation}\n",
        "  volume = \\alpha + \\beta*price + \\epsilon\n",
        "\\end{equation}\n",
        "where, $\\alpha$ and $\\beta$ are the intercept and slope of the demand curve respectively."
      ]
    },
    {
      "cell_type": "code",
      "metadata": {
        "id": "s6FjjAPBIRXE",
        "colab_type": "code",
        "colab": {}
      },
      "source": [
        "# function to generate demand curve company/city-wise\n",
        "\n",
        "company_dict = {}\n",
        "city_dict = {}\n",
        "\n",
        "def demand_curve_city(city_name):\n",
        "  for i in set(city):\n",
        "    y = np.array(data.loc[data['CITY'] == i]['VOLUME'])\n",
        "    y = y.reshape(len(y),1)\n",
        "    x = np.array(data.loc[data['CITY'] == i]['PRICE'])\n",
        "    x = x.reshape(len(x),1)\n",
        "    reg = linear_model.LinearRegression() \n",
        "    reg.fit(x, y) \n",
        "    city_dict[i] = [round(reg.intercept_[0],2), round(reg.coef_[0][0],2)]\n",
        "  for i in set(city):\n",
        "    if city_name in i:\n",
        "      print('The demand curve for ' + str(i) + ' city is : \\n')\n",
        "      print('Volume = ' + str(round(reg.intercept_[0],2)) + str(round(reg.coef_[0][0],2)) + ' * Price'  )\n",
        "\n",
        "def demand_curve_company(company_name):\n",
        "  for i in set(company):\n",
        "    y = np.array(data.loc[data['COMPANY'] == i]['VOLUME'])\n",
        "    y = y.reshape(len(y),1)\n",
        "    x = np.array(data.loc[data['COMPANY'] == i]['PRICE'])\n",
        "    x = x.reshape(len(x),1)\n",
        "    reg = linear_model.LinearRegression() \n",
        "    reg.fit(x, y) \n",
        "    company_dict[i] = [round(reg.intercept_[0],2), round(reg.coef_[0][0],2)]\n",
        "  for i in set(company):\n",
        "    if company_name in i:\n",
        "      print('The demand curve for ' + str(i) + ' company is : \\n')\n",
        "      print('Volume = ' + str(round(reg.intercept_[0],2)) + str(round(reg.coef_[0][0],2)) + ' * Price'  )"
      ],
      "execution_count": 0,
      "outputs": []
    },
    {
      "cell_type": "code",
      "metadata": {
        "id": "H7yaMxL5BlxE",
        "colab_type": "code",
        "outputId": "51245a2b-3318-4686-c974-85eea29a9548",
        "colab": {
          "base_uri": "https://localhost:8080/",
          "height": 69
        }
      },
      "source": [
        "# An example demonstrating the demand curve generating function\n",
        "demand_curve_city('SACRAMENTO')"
      ],
      "execution_count": 0,
      "outputs": [
        {
          "output_type": "stream",
          "text": [
            "The demand curve for SACRAMENTO  city is : \n",
            "\n",
            "Volume = 9541.5-2740.36 * Price\n"
          ],
          "name": "stdout"
        }
      ]
    },
    {
      "cell_type": "code",
      "metadata": {
        "id": "oyoLt6uzC6rV",
        "colab_type": "code",
        "outputId": "a9287404-5a7b-4325-9a0b-497aa89037b5",
        "colab": {
          "base_uri": "https://localhost:8080/",
          "height": 69
        }
      },
      "source": [
        "# An example demonstrating the demand curve generating function\n",
        "demand_curve_company('LUCKY')"
      ],
      "execution_count": 0,
      "outputs": [
        {
          "output_type": "stream",
          "text": [
            "The demand curve for  LUCKY company is : \n",
            "\n",
            "Volume = 8051.99-1777.61 * Price\n"
          ],
          "name": "stdout"
        }
      ]
    },
    {
      "cell_type": "markdown",
      "metadata": {
        "id": "T13OlKWy-Dko",
        "colab_type": "text"
      },
      "source": [
        "<br>\n",
        "\n",
        "### Computing profitability city/retailer-wise using the estimated emand curves"
      ]
    },
    {
      "cell_type": "markdown",
      "metadata": {
        "id": "XWK2I34EFjmS",
        "colab_type": "text"
      },
      "source": [
        "Now using the demand curves we predict the voulme for each city/company for the discounted price (price reduced by 5 %). We use the following assumptions and equations.\n",
        "- Discounted price : Price reduced by 5%\n",
        "- Unit cost : \\$ 1.8 per unit\n",
        "- $new\\_volume$ = volume estimated using the demand curve\n",
        "- $old\\_revenue = old\\_volume * old\\_price$\n",
        "- $new\\_revenue = new\\_volume * discounted\\_price$\n",
        "\n",
        "\\begin{equation}\n",
        "  profitability = new\\_profit - old\\_profit\n",
        "\\end{equation}"
      ]
    },
    {
      "cell_type": "code",
      "metadata": {
        "id": "ZXM648K9FjN_",
        "colab_type": "code",
        "colab": {}
      },
      "source": [
        "data['DISC_PRICE'] = data['PRICE']*0.95"
      ],
      "execution_count": 0,
      "outputs": []
    },
    {
      "cell_type": "code",
      "metadata": {
        "id": "WqjwNiUwDSBs",
        "colab_type": "code",
        "colab": {}
      },
      "source": [
        "new_vol_city = []\n",
        "for ind in data.index: \n",
        "    new_vol_city.append(city_dict[data['CITY'][ind]][0] + city_dict[data['CITY'][ind]][1]*data['DISC_PRICE'][ind])\n",
        "\n",
        "new_vol_company = []\n",
        "for ind in data.index: \n",
        "    new_vol_company.append(company_dict[data['COMPANY'][ind]][0] + company_dict[data['COMPANY'][ind]][1]*data['DISC_PRICE'][ind])    "
      ],
      "execution_count": 0,
      "outputs": []
    },
    {
      "cell_type": "code",
      "metadata": {
        "id": "apmqEkucDR_K",
        "colab_type": "code",
        "colab": {}
      },
      "source": [
        "data['REVENUE'] = data['PRICE'] * data['VOLUME']\n",
        "data['COST'] = data['VOLUME'] * 1.8\n",
        "data['PROFIT'] = data['REVENUE'] - data['COST']\n",
        "data['NEW_VOL_CITY'] = new_vol_city\n",
        "data['NEW_VOL_COMPANY'] = new_vol_company\n",
        "data['NEW_REV_CITY'] = data['NEW_VOL_CITY'] * data['DISC_PRICE']\n",
        "data['NEW_REV_COMPANY'] = data['NEW_VOL_COMPANY'] * data['DISC_PRICE']\n",
        "data['NEW_COST_COMPANY'] = data['NEW_VOL_COMPANY'] * 1.8\n",
        "data['NEW_COST_CITY'] = data['NEW_VOL_CITY'] * 1.8\n",
        "data['NEW_PROFIT_CITY'] = data['NEW_REV_CITY'] - data['NEW_COST_CITY'] \n",
        "data['NEW_PROFIT_COMPANY'] = data['NEW_REV_COMPANY'] - data['NEW_COST_COMPANY']\n",
        "data['PROFITABILITY_CITY'] = data['NEW_PROFIT_CITY'] - data['PROFIT']\n",
        "data['PROFITABILITY_COMPANY'] = data['NEW_PROFIT_COMPANY'] - data['PROFIT']\n",
        "data['PROFITABILITY_CITY_%'] = data['PROFITABILITY_CITY']/data['PROFIT']*100\n",
        "data['PROFITABILITY_COMPANY_%'] = data['PROFITABILITY_COMPANY']/data['PROFIT']*100"
      ],
      "execution_count": 0,
      "outputs": []
    },
    {
      "cell_type": "code",
      "metadata": {
        "id": "yg17AGELDR8c",
        "colab_type": "code",
        "outputId": "f526f006-6a78-4f34-9063-7999c0c9a330",
        "colab": {
          "base_uri": "https://localhost:8080/",
          "height": 278
        }
      },
      "source": [
        "data.head()"
      ],
      "execution_count": 0,
      "outputs": [
        {
          "output_type": "execute_result",
          "data": {
            "text/html": [
              "<div>\n",
              "<style scoped>\n",
              "    .dataframe tbody tr th:only-of-type {\n",
              "        vertical-align: middle;\n",
              "    }\n",
              "\n",
              "    .dataframe tbody tr th {\n",
              "        vertical-align: top;\n",
              "    }\n",
              "\n",
              "    .dataframe thead th {\n",
              "        text-align: right;\n",
              "    }\n",
              "</style>\n",
              "<table border=\"1\" class=\"dataframe\">\n",
              "  <thead>\n",
              "    <tr style=\"text-align: right;\">\n",
              "      <th></th>\n",
              "      <th>VOLUME</th>\n",
              "      <th>DISP</th>\n",
              "      <th>PRICE</th>\n",
              "      <th>CITY</th>\n",
              "      <th>COMPANY</th>\n",
              "      <th>DISC_PRICE</th>\n",
              "      <th>REVENUE</th>\n",
              "      <th>COST</th>\n",
              "      <th>PROFIT</th>\n",
              "      <th>NEW_VOL_CITY</th>\n",
              "      <th>NEW_VOL_COMPANY</th>\n",
              "      <th>NEW_REV_CITY</th>\n",
              "      <th>NEW_REV_COMPANY</th>\n",
              "      <th>NEW_COST_COMPANY</th>\n",
              "      <th>NEW_COST_CITY</th>\n",
              "      <th>NEW_PROFIT_CITY</th>\n",
              "      <th>NEW_PROFIT_COMPANY</th>\n",
              "      <th>PROFITABILITY_CITY</th>\n",
              "      <th>PROFITABILITY_COMPANY</th>\n",
              "      <th>PROFITABILITY_CITY_%</th>\n",
              "      <th>PROFITABILITY_COMPANY_%</th>\n",
              "    </tr>\n",
              "  </thead>\n",
              "  <tbody>\n",
              "    <tr>\n",
              "      <th>0</th>\n",
              "      <td>21374</td>\n",
              "      <td>0.162000</td>\n",
              "      <td>2.578460</td>\n",
              "      <td>LOS ANGELES</td>\n",
              "      <td>LUCKY</td>\n",
              "      <td>2.449537</td>\n",
              "      <td>55112.004040</td>\n",
              "      <td>38473.2</td>\n",
              "      <td>16638.804040</td>\n",
              "      <td>16301.282031</td>\n",
              "      <td>14693.893175</td>\n",
              "      <td>39930.593482</td>\n",
              "      <td>35993.235006</td>\n",
              "      <td>26449.007715</td>\n",
              "      <td>29342.307655</td>\n",
              "      <td>10588.285826</td>\n",
              "      <td>9544.227291</td>\n",
              "      <td>-6050.518214</td>\n",
              "      <td>-7094.576749</td>\n",
              "      <td>-36.363901</td>\n",
              "      <td>-42.638742</td>\n",
              "    </tr>\n",
              "    <tr>\n",
              "      <th>1</th>\n",
              "      <td>6427</td>\n",
              "      <td>0.124113</td>\n",
              "      <td>3.727867</td>\n",
              "      <td>LOS ANGELES</td>\n",
              "      <td>RALPHS</td>\n",
              "      <td>3.541474</td>\n",
              "      <td>23959.001209</td>\n",
              "      <td>11568.6</td>\n",
              "      <td>12390.401209</td>\n",
              "      <td>6524.485283</td>\n",
              "      <td>3248.338480</td>\n",
              "      <td>23106.292710</td>\n",
              "      <td>11503.905133</td>\n",
              "      <td>5847.009264</td>\n",
              "      <td>11744.073510</td>\n",
              "      <td>11362.219200</td>\n",
              "      <td>5656.895869</td>\n",
              "      <td>-1028.182009</td>\n",
              "      <td>-6733.505340</td>\n",
              "      <td>-8.298214</td>\n",
              "      <td>-54.344530</td>\n",
              "    </tr>\n",
              "    <tr>\n",
              "      <th>2</th>\n",
              "      <td>17302</td>\n",
              "      <td>0.102000</td>\n",
              "      <td>2.711421</td>\n",
              "      <td>LOS ANGELES</td>\n",
              "      <td>VONS</td>\n",
              "      <td>2.575850</td>\n",
              "      <td>46913.006142</td>\n",
              "      <td>31143.6</td>\n",
              "      <td>15769.406142</td>\n",
              "      <td>15170.322612</td>\n",
              "      <td>17749.564151</td>\n",
              "      <td>39076.474742</td>\n",
              "      <td>45720.213931</td>\n",
              "      <td>31949.215472</td>\n",
              "      <td>27306.580702</td>\n",
              "      <td>11769.894040</td>\n",
              "      <td>13770.998459</td>\n",
              "      <td>-3999.512102</td>\n",
              "      <td>-1998.407683</td>\n",
              "      <td>-25.362478</td>\n",
              "      <td>-12.672688</td>\n",
              "    </tr>\n",
              "    <tr>\n",
              "      <th>3</th>\n",
              "      <td>13561</td>\n",
              "      <td>0.027591</td>\n",
              "      <td>2.651206</td>\n",
              "      <td>CHICAGO</td>\n",
              "      <td>DOMINICK</td>\n",
              "      <td>2.518646</td>\n",
              "      <td>35953.004566</td>\n",
              "      <td>24409.8</td>\n",
              "      <td>11543.204566</td>\n",
              "      <td>22115.488336</td>\n",
              "      <td>28599.932348</td>\n",
              "      <td>55701.079600</td>\n",
              "      <td>72033.096629</td>\n",
              "      <td>51479.878227</td>\n",
              "      <td>39807.879004</td>\n",
              "      <td>15893.200596</td>\n",
              "      <td>20553.218402</td>\n",
              "      <td>4349.996030</td>\n",
              "      <td>9010.013836</td>\n",
              "      <td>37.684475</td>\n",
              "      <td>78.054701</td>\n",
              "    </tr>\n",
              "    <tr>\n",
              "      <th>4</th>\n",
              "      <td>42774</td>\n",
              "      <td>0.090613</td>\n",
              "      <td>1.986674</td>\n",
              "      <td>CHICAGO</td>\n",
              "      <td>JEWEL</td>\n",
              "      <td>1.887340</td>\n",
              "      <td>84977.993676</td>\n",
              "      <td>76993.2</td>\n",
              "      <td>7984.793676</td>\n",
              "      <td>38125.620549</td>\n",
              "      <td>69084.140406</td>\n",
              "      <td>71956.020126</td>\n",
              "      <td>130385.282278</td>\n",
              "      <td>124351.452730</td>\n",
              "      <td>68626.116989</td>\n",
              "      <td>3329.903136</td>\n",
              "      <td>6033.829548</td>\n",
              "      <td>-4654.890540</td>\n",
              "      <td>-1950.964128</td>\n",
              "      <td>-58.296942</td>\n",
              "      <td>-24.433495</td>\n",
              "    </tr>\n",
              "  </tbody>\n",
              "</table>\n",
              "</div>"
            ],
            "text/plain": [
              "   VOLUME      DISP  ...  PROFITABILITY_CITY_% PROFITABILITY_COMPANY_%\n",
              "0   21374  0.162000  ...            -36.363901              -42.638742\n",
              "1    6427  0.124113  ...             -8.298214              -54.344530\n",
              "2   17302  0.102000  ...            -25.362478              -12.672688\n",
              "3   13561  0.027591  ...             37.684475               78.054701\n",
              "4   42774  0.090613  ...            -58.296942              -24.433495\n",
              "\n",
              "[5 rows x 21 columns]"
            ]
          },
          "metadata": {
            "tags": []
          },
          "execution_count": 15
        }
      ]
    },
    {
      "cell_type": "markdown",
      "metadata": {
        "id": "elXGCAu_gl9R",
        "colab_type": "text"
      },
      "source": [
        "The following dataframe stores the estimated Profit after the price is educed by 5%, corresponding to each CITY-RETAILER pair using both the **Retailer based** and **Location based** demand curves."
      ]
    },
    {
      "cell_type": "code",
      "metadata": {
        "id": "yZrPRADEDR5v",
        "colab_type": "code",
        "colab": {}
      },
      "source": [
        "data_results = pd.DataFrame()\n",
        "data_results['CITY'] = data['CITY']\n",
        "data_results['COMPANY'] = data['COMPANY']\n",
        "data_results['PROFITABILITY_CITY_%'] = data['PROFITABILITY_CITY']/data['PROFIT']*100\n",
        "data_results['PROFITABILITY_COMPANY_%'] = data['PROFITABILITY_COMPANY']/data['PROFIT']*100"
      ],
      "execution_count": 0,
      "outputs": []
    },
    {
      "cell_type": "code",
      "metadata": {
        "id": "gDSW4ZkPDR3k",
        "colab_type": "code",
        "outputId": "a41023df-9091-4fbf-a567-43b8fb694b7c",
        "colab": {
          "base_uri": "https://localhost:8080/",
          "height": 206
        }
      },
      "source": [
        "data_results.head()"
      ],
      "execution_count": 0,
      "outputs": [
        {
          "output_type": "execute_result",
          "data": {
            "text/html": [
              "<div>\n",
              "<style scoped>\n",
              "    .dataframe tbody tr th:only-of-type {\n",
              "        vertical-align: middle;\n",
              "    }\n",
              "\n",
              "    .dataframe tbody tr th {\n",
              "        vertical-align: top;\n",
              "    }\n",
              "\n",
              "    .dataframe thead th {\n",
              "        text-align: right;\n",
              "    }\n",
              "</style>\n",
              "<table border=\"1\" class=\"dataframe\">\n",
              "  <thead>\n",
              "    <tr style=\"text-align: right;\">\n",
              "      <th></th>\n",
              "      <th>CITY</th>\n",
              "      <th>COMPANY</th>\n",
              "      <th>PROFITABILITY_CITY_%</th>\n",
              "      <th>PROFITABILITY_COMPANY_%</th>\n",
              "    </tr>\n",
              "  </thead>\n",
              "  <tbody>\n",
              "    <tr>\n",
              "      <th>0</th>\n",
              "      <td>LOS ANGELES</td>\n",
              "      <td>LUCKY</td>\n",
              "      <td>-36.363901</td>\n",
              "      <td>-42.638742</td>\n",
              "    </tr>\n",
              "    <tr>\n",
              "      <th>1</th>\n",
              "      <td>LOS ANGELES</td>\n",
              "      <td>RALPHS</td>\n",
              "      <td>-8.298214</td>\n",
              "      <td>-54.344530</td>\n",
              "    </tr>\n",
              "    <tr>\n",
              "      <th>2</th>\n",
              "      <td>LOS ANGELES</td>\n",
              "      <td>VONS</td>\n",
              "      <td>-25.362478</td>\n",
              "      <td>-12.672688</td>\n",
              "    </tr>\n",
              "    <tr>\n",
              "      <th>3</th>\n",
              "      <td>CHICAGO</td>\n",
              "      <td>DOMINICK</td>\n",
              "      <td>37.684475</td>\n",
              "      <td>78.054701</td>\n",
              "    </tr>\n",
              "    <tr>\n",
              "      <th>4</th>\n",
              "      <td>CHICAGO</td>\n",
              "      <td>JEWEL</td>\n",
              "      <td>-58.296942</td>\n",
              "      <td>-24.433495</td>\n",
              "    </tr>\n",
              "  </tbody>\n",
              "</table>\n",
              "</div>"
            ],
            "text/plain": [
              "           CITY    COMPANY  PROFITABILITY_CITY_%  PROFITABILITY_COMPANY_%\n",
              "0  LOS ANGELES       LUCKY            -36.363901               -42.638742\n",
              "1  LOS ANGELES      RALPHS             -8.298214               -54.344530\n",
              "2  LOS ANGELES        VONS            -25.362478               -12.672688\n",
              "3      CHICAGO    DOMINICK             37.684475                78.054701\n",
              "4      CHICAGO       JEWEL            -58.296942               -24.433495"
            ]
          },
          "metadata": {
            "tags": []
          },
          "execution_count": 17
        }
      ]
    },
    {
      "cell_type": "markdown",
      "metadata": {
        "id": "Se59-CAiiHY7",
        "colab_type": "text"
      },
      "source": [
        "Now, to answer the question <br>\n",
        "Which Retailer's profitability increase or decrease due to 5% discounting in price ?? <br>\n",
        "- we use the **Company** model of demand curve and aggregate the estimated profitability for each company/retailer irrespective of the location."
      ]
    },
    {
      "cell_type": "code",
      "metadata": {
        "id": "aKaRd3qykWX1",
        "colab_type": "code",
        "colab": {}
      },
      "source": [
        "# This code creates a dictionary which stores the average percentage change in profitability for each company/retailer.\n",
        "\n",
        "company_profitability = {}\n",
        "for i in set(company):\n",
        "  company_profitability[i] = [np.average(data_results['PROFITABILITY_COMPANY_%'].loc[data_results['COMPANY'] == i]), set(data_results['CITY'].loc[data_results['COMPANY'] == i])]"
      ],
      "execution_count": 0,
      "outputs": []
    },
    {
      "cell_type": "code",
      "metadata": {
        "id": "1v8gkHQVkWVu",
        "colab_type": "code",
        "outputId": "f38eda04-0525-4ff5-dab7-abacb3719fbd",
        "colab": {
          "base_uri": "https://localhost:8080/",
          "height": 398
        }
      },
      "source": [
        "print('The top 10 companies/retailers (along with the avg profitability %) whose profitability increased the most in the discount scheme :\\n ')\n",
        "c = []\n",
        "p = []\n",
        "l = [] \n",
        "\n",
        "for i in sorted(company_profitability.items(), key=lambda x: x[1], reverse = True)[:10]:\n",
        "  c.append(i[0])\n",
        "  p.append(i[1][0])\n",
        "  l.append(i[1][1])\n",
        "\n",
        "# Create DataFrame \n",
        "data = {'COMPANY':c, 'AVG_%_PROFITABILITY':p, 'CITIES':l} \n",
        "df = pd.DataFrame(data)  \n",
        "df"
      ],
      "execution_count": 0,
      "outputs": [
        {
          "output_type": "stream",
          "text": [
            "The top 10 companies/retailers (along with the avg profitability %) whose profitability increased the most in the discount scheme :\n",
            " \n"
          ],
          "name": "stdout"
        },
        {
          "output_type": "execute_result",
          "data": {
            "text/html": [
              "<div>\n",
              "<style scoped>\n",
              "    .dataframe tbody tr th:only-of-type {\n",
              "        vertical-align: middle;\n",
              "    }\n",
              "\n",
              "    .dataframe tbody tr th {\n",
              "        vertical-align: top;\n",
              "    }\n",
              "\n",
              "    .dataframe thead th {\n",
              "        text-align: right;\n",
              "    }\n",
              "</style>\n",
              "<table border=\"1\" class=\"dataframe\">\n",
              "  <thead>\n",
              "    <tr style=\"text-align: right;\">\n",
              "      <th></th>\n",
              "      <th>COMPANY</th>\n",
              "      <th>AVG_%_PROFITABILITY</th>\n",
              "      <th>CITIES</th>\n",
              "    </tr>\n",
              "  </thead>\n",
              "  <tbody>\n",
              "    <tr>\n",
              "      <th>0</th>\n",
              "      <td>TOPS MARKETS</td>\n",
              "      <td>132.584249</td>\n",
              "      <td>{BUFFALO/ROCHESTER }</td>\n",
              "    </tr>\n",
              "    <tr>\n",
              "      <th>1</th>\n",
              "      <td>WEGMANS</td>\n",
              "      <td>105.602246</td>\n",
              "      <td>{SYRACUSE , BUFFALO/ROCHESTER }</td>\n",
              "    </tr>\n",
              "    <tr>\n",
              "      <th>2</th>\n",
              "      <td>P &amp; C FOOD MARKE</td>\n",
              "      <td>92.968279</td>\n",
              "      <td>{SYRACUSE }</td>\n",
              "    </tr>\n",
              "    <tr>\n",
              "      <th>3</th>\n",
              "      <td>PATHMARK</td>\n",
              "      <td>91.926375</td>\n",
              "      <td>{NEW YORK (NEW) }</td>\n",
              "    </tr>\n",
              "    <tr>\n",
              "      <th>4</th>\n",
              "      <td>PRICE CHOPPER</td>\n",
              "      <td>76.472074</td>\n",
              "      <td>{SYRACUSE , ALBANY,NY }</td>\n",
              "    </tr>\n",
              "    <tr>\n",
              "      <th>5</th>\n",
              "      <td>STAR MARKET</td>\n",
              "      <td>73.130014</td>\n",
              "      <td>{BOSTON }</td>\n",
              "    </tr>\n",
              "    <tr>\n",
              "      <th>6</th>\n",
              "      <td>DOMINICK</td>\n",
              "      <td>52.051722</td>\n",
              "      <td>{CHICAGO }</td>\n",
              "    </tr>\n",
              "    <tr>\n",
              "      <th>7</th>\n",
              "      <td>RALPHS</td>\n",
              "      <td>47.470044</td>\n",
              "      <td>{SAN DIEGO , LOS ANGELES }</td>\n",
              "    </tr>\n",
              "    <tr>\n",
              "      <th>8</th>\n",
              "      <td>PUBLIX</td>\n",
              "      <td>45.293928</td>\n",
              "      <td>{TAMPA/ST. PETE , ORLANDO,FL , MIAMI , JACKSON...</td>\n",
              "    </tr>\n",
              "    <tr>\n",
              "      <th>9</th>\n",
              "      <td>OMNI</td>\n",
              "      <td>43.968344</td>\n",
              "      <td>{CHICAGO }</td>\n",
              "    </tr>\n",
              "  </tbody>\n",
              "</table>\n",
              "</div>"
            ],
            "text/plain": [
              "             COMPANY  ...                                             CITIES\n",
              "0       TOPS MARKETS  ...                               {BUFFALO/ROCHESTER }\n",
              "1            WEGMANS  ...                    {SYRACUSE , BUFFALO/ROCHESTER }\n",
              "2   P & C FOOD MARKE  ...                                        {SYRACUSE }\n",
              "3           PATHMARK  ...                                  {NEW YORK (NEW) }\n",
              "4      PRICE CHOPPER  ...                            {SYRACUSE , ALBANY,NY }\n",
              "5        STAR MARKET  ...                                          {BOSTON }\n",
              "6           DOMINICK  ...                                         {CHICAGO }\n",
              "7             RALPHS  ...                         {SAN DIEGO , LOS ANGELES }\n",
              "8             PUBLIX  ...  {TAMPA/ST. PETE , ORLANDO,FL , MIAMI , JACKSON...\n",
              "9               OMNI  ...                                         {CHICAGO }\n",
              "\n",
              "[10 rows x 3 columns]"
            ]
          },
          "metadata": {
            "tags": []
          },
          "execution_count": 19
        }
      ]
    },
    {
      "cell_type": "code",
      "metadata": {
        "id": "_sfoYeshkWS2",
        "colab_type": "code",
        "outputId": "2d21322a-1bd2-4555-9c32-3d23bc31f5ab",
        "colab": {
          "base_uri": "https://localhost:8080/",
          "height": 398
        }
      },
      "source": [
        "print('The bottom 10 companies/retailers (along with the in avg profitability %) whose profitability decreased the most in the discount scheme :\\n ')\n",
        "c = []\n",
        "p = []\n",
        "l = []\n",
        "\n",
        "for i in sorted(company_profitability.items(), key=lambda x: x[1])[:10]:\n",
        "  c.append(i[0])\n",
        "  p.append(i[1][0])\n",
        "  l.append(i[1][1])\n",
        "\n",
        "# Create DataFrame \n",
        "data = {'COMPANY':c, 'AVG_%_PROFITABILITY':p, 'CITIES':l} \n",
        "df = pd.DataFrame(data)  \n",
        "df"
      ],
      "execution_count": 0,
      "outputs": [
        {
          "output_type": "stream",
          "text": [
            "The bottom 10 companies/retailers (along with the in avg profitability %) whose profitability decreased the most in the discount scheme :\n",
            " \n"
          ],
          "name": "stdout"
        },
        {
          "output_type": "execute_result",
          "data": {
            "text/html": [
              "<div>\n",
              "<style scoped>\n",
              "    .dataframe tbody tr th:only-of-type {\n",
              "        vertical-align: middle;\n",
              "    }\n",
              "\n",
              "    .dataframe tbody tr th {\n",
              "        vertical-align: top;\n",
              "    }\n",
              "\n",
              "    .dataframe thead th {\n",
              "        text-align: right;\n",
              "    }\n",
              "</style>\n",
              "<table border=\"1\" class=\"dataframe\">\n",
              "  <thead>\n",
              "    <tr style=\"text-align: right;\">\n",
              "      <th></th>\n",
              "      <th>COMPANY</th>\n",
              "      <th>AVG_%_PROFITABILITY</th>\n",
              "      <th>CITIES</th>\n",
              "    </tr>\n",
              "  </thead>\n",
              "  <tbody>\n",
              "    <tr>\n",
              "      <th>0</th>\n",
              "      <td>SHOP N SAVE</td>\n",
              "      <td>-23.534963</td>\n",
              "      <td>{NEW ENGLAND (NORTH) }</td>\n",
              "    </tr>\n",
              "    <tr>\n",
              "      <th>1</th>\n",
              "      <td>BI LO</td>\n",
              "      <td>-22.585993</td>\n",
              "      <td>{SOUTH CAROLINA , CHARLOTTE }</td>\n",
              "    </tr>\n",
              "    <tr>\n",
              "      <th>2</th>\n",
              "      <td>KROGER</td>\n",
              "      <td>-18.127992</td>\n",
              "      <td>{BIRMINGHAM/MONTGOM }</td>\n",
              "    </tr>\n",
              "    <tr>\n",
              "      <th>3</th>\n",
              "      <td>BRUNOS</td>\n",
              "      <td>-14.254429</td>\n",
              "      <td>{BIRMINGHAM/MONTGOM }</td>\n",
              "    </tr>\n",
              "    <tr>\n",
              "      <th>4</th>\n",
              "      <td>HARRIS TEETER</td>\n",
              "      <td>-11.070944</td>\n",
              "      <td>{CHARLOTTE }</td>\n",
              "    </tr>\n",
              "    <tr>\n",
              "      <th>5</th>\n",
              "      <td>NEW FARM FRESH</td>\n",
              "      <td>-8.377674</td>\n",
              "      <td>{RICHMOND/NORFOLK }</td>\n",
              "    </tr>\n",
              "    <tr>\n",
              "      <th>6</th>\n",
              "      <td>GIANT FOOD STO</td>\n",
              "      <td>-7.069188</td>\n",
              "      <td>{HARRISBURG/SCRANTN }</td>\n",
              "    </tr>\n",
              "    <tr>\n",
              "      <th>7</th>\n",
              "      <td>KASH N KARRY</td>\n",
              "      <td>-6.992935</td>\n",
              "      <td>{TAMPA/ST. PETE }</td>\n",
              "    </tr>\n",
              "    <tr>\n",
              "      <th>8</th>\n",
              "      <td>HARVEST FOODS</td>\n",
              "      <td>-3.815757</td>\n",
              "      <td>{LITTLE ROCK }</td>\n",
              "    </tr>\n",
              "    <tr>\n",
              "      <th>9</th>\n",
              "      <td>ALBERTSONS</td>\n",
              "      <td>-2.503561</td>\n",
              "      <td>{DALLAS/FT. WORTH }</td>\n",
              "    </tr>\n",
              "  </tbody>\n",
              "</table>\n",
              "</div>"
            ],
            "text/plain": [
              "           COMPANY  AVG_%_PROFITABILITY                         CITIES\n",
              "0      SHOP N SAVE           -23.534963         {NEW ENGLAND (NORTH) }\n",
              "1            BI LO           -22.585993  {SOUTH CAROLINA , CHARLOTTE }\n",
              "2           KROGER           -18.127992          {BIRMINGHAM/MONTGOM }\n",
              "3           BRUNOS           -14.254429          {BIRMINGHAM/MONTGOM }\n",
              "4    HARRIS TEETER           -11.070944                   {CHARLOTTE }\n",
              "5   NEW FARM FRESH            -8.377674            {RICHMOND/NORFOLK }\n",
              "6   GIANT FOOD STO            -7.069188          {HARRISBURG/SCRANTN }\n",
              "7     KASH N KARRY            -6.992935              {TAMPA/ST. PETE }\n",
              "8    HARVEST FOODS            -3.815757                 {LITTLE ROCK }\n",
              "9       ALBERTSONS            -2.503561            {DALLAS/FT. WORTH }"
            ]
          },
          "metadata": {
            "tags": []
          },
          "execution_count": 20
        }
      ]
    },
    {
      "cell_type": "markdown",
      "metadata": {
        "id": "kSos8dm94HqN",
        "colab_type": "text"
      },
      "source": [
        "From the results abtained above we observe the following:<br>\n",
        "- The discount scheme (discountig the price by 5%) has resulted in a increase in demand for almost all CITIES and for almost all RETAILERS/CONPANIES. Since all the demand curves have a **-ve** slope both city/company-wise.\n",
        "- The maximum profitability observed is for the company *TOPS MARKETS* with average percentage of profitability 132.584249 %, which implies almost 1.3 times increase in profit!\n",
        "- The minimum profitability observed is for the company *SHOP N SAVE* with average percentage of profitability -23.534963 %, which implies almost .2 times drop in profit!\n",
        "\n"
      ]
    },
    {
      "cell_type": "markdown",
      "metadata": {
        "id": "vb8e4Pxm4HnD",
        "colab_type": "text"
      },
      "source": [
        "We separate the 2 groups of retailers with **positive** and **negative** profitability, as follows:"
      ]
    },
    {
      "cell_type": "code",
      "metadata": {
        "id": "gdOXEz5SkWQn",
        "colab_type": "code",
        "colab": {}
      },
      "source": [
        "positive_profitability_company = []\n",
        "negative_profitability_company = []\n",
        "for i in company_profitability.keys():\n",
        "  if company_profitability[i][0] > 0:\n",
        "    positive_profitability_company.append(i)\n",
        "  else:\n",
        "    negative_profitability_company.append(i)  "
      ],
      "execution_count": 0,
      "outputs": []
    },
    {
      "cell_type": "code",
      "metadata": {
        "id": "PUfmLnWqkWOP",
        "colab_type": "code",
        "outputId": "98fa54b8-de13-44cc-8ece-de5fb056ce5d",
        "colab": {
          "base_uri": "https://localhost:8080/",
          "height": 694
        }
      },
      "source": [
        "# Companies with positive profitability\n",
        "positive_profitability_company"
      ],
      "execution_count": 0,
      "outputs": [
        {
          "output_type": "execute_result",
          "data": {
            "text/plain": [
              "[' JEWEL',\n",
              " ' PUBLIX',\n",
              " ' SAFEWAY',\n",
              " ' DOMINICK',\n",
              " ' BIG BEAR',\n",
              " ' SMITHS FOOD',\n",
              " ' NATIONAL SUPER',\n",
              " ' KING SOOPERS INC',\n",
              " ' GIANT FOOD INC',\n",
              " ' H E BUTT',\n",
              " ' SHAWS',\n",
              " ' STOP N SHOP',\n",
              " ' TOM THUMB',\n",
              " ' A & P',\n",
              " ' TOPS MARKETS',\n",
              " ' ACME MARKET',\n",
              " ' HOMELAND',\n",
              " ' RANDALLS',\n",
              " ' P & C FOOD MARKE',\n",
              " ' PRICE CHOPPER',\n",
              " ' PATHMARK',\n",
              " ' RALEYS',\n",
              " ' KOHLS FOOD STORE',\n",
              " ' LUCKY',\n",
              " ' VONS',\n",
              " ' KROGER CO',\n",
              " ' FARMER JACKS',\n",
              " ' WEGMANS',\n",
              " ' OMNI',\n",
              " \" FRY'S FOOD STORE\",\n",
              " ' SCHNUCK MARKETS',\n",
              " ' FOOD LION',\n",
              " ' WALDBAUMS',\n",
              " ' STAR MARKET',\n",
              " ' STOP & SHOP',\n",
              " ' RALPHS',\n",
              " ' GIANT EAGLE',\n",
              " ' WINN DIXIE',\n",
              " ' SUPER FRESH']"
            ]
          },
          "metadata": {
            "tags": []
          },
          "execution_count": 22
        }
      ]
    },
    {
      "cell_type": "code",
      "metadata": {
        "id": "qksv-89RCk8h",
        "colab_type": "code",
        "outputId": "4814c193-ef1a-4e89-d7dc-0e94036d9bdd",
        "colab": {
          "base_uri": "https://localhost:8080/",
          "height": 208
        }
      },
      "source": [
        "# Companies with negative profitability\n",
        "negative_profitability_company"
      ],
      "execution_count": 0,
      "outputs": [
        {
          "output_type": "execute_result",
          "data": {
            "text/plain": [
              "[' GIANT FOOD STO',\n",
              " ' KASH N KARRY',\n",
              " ' BRUNOS',\n",
              " ' NEW FARM FRESH',\n",
              " ' ALBERTSONS',\n",
              " ' HARRIS TEETER',\n",
              " ' BI LO',\n",
              " ' KROGER',\n",
              " ' HARVEST FOODS',\n",
              " ' SHOP N SAVE',\n",
              " ' DILLON COMPANIES']"
            ]
          },
          "metadata": {
            "tags": []
          },
          "execution_count": 23
        }
      ]
    },
    {
      "cell_type": "markdown",
      "metadata": {
        "id": "7JfSb-ELDy_S",
        "colab_type": "text"
      },
      "source": [
        "Till now we have done the analysis based on the company model\n",
        "- we use the **City** model of demand curve and aggregate the estimated profitability for each city irrespective of the retailer.\n",
        "<br>\n",
        "The motive of doing this is : Suppose we want to find out the city(ies) where it is most profitable to launch this discount scheme. Here we assume that people's behaviour towards the product is dependent on their location of stay and irrespective of the brands."
      ]
    },
    {
      "cell_type": "code",
      "metadata": {
        "id": "Ml9iISYpXGzi",
        "colab_type": "code",
        "colab": {}
      },
      "source": [
        "# This code creates a dictionary which stores the average percentage change in profitability for each city.\n",
        "\n",
        "city_profitability = {}\n",
        "for i in set(city):\n",
        "  city_profitability[i] = [np.average(data_results['PROFITABILITY_CITY_%'].loc[data_results['CITY'] == i]), set(data_results['COMPANY'].loc[(data_results['CITY'] == i) & (data_results['PROFITABILITY_CITY_%'] > 0)]) ]"
      ],
      "execution_count": 0,
      "outputs": []
    },
    {
      "cell_type": "code",
      "metadata": {
        "id": "tLaPJTNRXGyO",
        "colab_type": "code",
        "outputId": "470e30bc-3f26-4a8a-b913-b0621c1f188b",
        "colab": {
          "base_uri": "https://localhost:8080/",
          "height": 398
        }
      },
      "source": [
        "print('The top 10 cities (along with the avg % profitability) where profitability increased the most in the discount scheme :\\n ')\n",
        "c = []\n",
        "p = []\n",
        "\n",
        "for i in sorted(city_profitability.items(), key=lambda x: x[1], reverse = True)[:10]:\n",
        "  c.append(i[0])\n",
        "  p.append(i[1][0])\n",
        "\n",
        "# Create DataFrame \n",
        "data = {'CITY':c, 'AVG_%_PROFITABILITY':p} \n",
        "df = pd.DataFrame(data)  \n",
        "df"
      ],
      "execution_count": 0,
      "outputs": [
        {
          "output_type": "stream",
          "text": [
            "The top 10 cities (along with the avg % profitability) where profitability increased the most in the discount scheme :\n",
            " \n"
          ],
          "name": "stdout"
        },
        {
          "output_type": "execute_result",
          "data": {
            "text/html": [
              "<div>\n",
              "<style scoped>\n",
              "    .dataframe tbody tr th:only-of-type {\n",
              "        vertical-align: middle;\n",
              "    }\n",
              "\n",
              "    .dataframe tbody tr th {\n",
              "        vertical-align: top;\n",
              "    }\n",
              "\n",
              "    .dataframe thead th {\n",
              "        text-align: right;\n",
              "    }\n",
              "</style>\n",
              "<table border=\"1\" class=\"dataframe\">\n",
              "  <thead>\n",
              "    <tr style=\"text-align: right;\">\n",
              "      <th></th>\n",
              "      <th>CITY</th>\n",
              "      <th>AVG_%_PROFITABILITY</th>\n",
              "    </tr>\n",
              "  </thead>\n",
              "  <tbody>\n",
              "    <tr>\n",
              "      <th>0</th>\n",
              "      <td>CHICAGO</td>\n",
              "      <td>133.835720</td>\n",
              "    </tr>\n",
              "    <tr>\n",
              "      <th>1</th>\n",
              "      <td>SYRACUSE</td>\n",
              "      <td>107.594319</td>\n",
              "    </tr>\n",
              "    <tr>\n",
              "      <th>2</th>\n",
              "      <td>BUFFALO/ROCHESTER</td>\n",
              "      <td>97.276887</td>\n",
              "    </tr>\n",
              "    <tr>\n",
              "      <th>3</th>\n",
              "      <td>NEW YORK (NEW)</td>\n",
              "      <td>85.127574</td>\n",
              "    </tr>\n",
              "    <tr>\n",
              "      <th>4</th>\n",
              "      <td>BALTI/WASH</td>\n",
              "      <td>58.598519</td>\n",
              "    </tr>\n",
              "    <tr>\n",
              "      <th>5</th>\n",
              "      <td>ALBANY,NY</td>\n",
              "      <td>49.331276</td>\n",
              "    </tr>\n",
              "    <tr>\n",
              "      <th>6</th>\n",
              "      <td>PHILADELPHIA</td>\n",
              "      <td>43.574180</td>\n",
              "    </tr>\n",
              "    <tr>\n",
              "      <th>7</th>\n",
              "      <td>HARTFORD</td>\n",
              "      <td>40.415985</td>\n",
              "    </tr>\n",
              "    <tr>\n",
              "      <th>8</th>\n",
              "      <td>BIRMINGHAM/MONTGOM</td>\n",
              "      <td>31.225523</td>\n",
              "    </tr>\n",
              "    <tr>\n",
              "      <th>9</th>\n",
              "      <td>ST. LOUIS</td>\n",
              "      <td>31.138204</td>\n",
              "    </tr>\n",
              "  </tbody>\n",
              "</table>\n",
              "</div>"
            ],
            "text/plain": [
              "                  CITY  AVG_%_PROFITABILITY\n",
              "0             CHICAGO            133.835720\n",
              "1            SYRACUSE            107.594319\n",
              "2   BUFFALO/ROCHESTER             97.276887\n",
              "3      NEW YORK (NEW)             85.127574\n",
              "4          BALTI/WASH             58.598519\n",
              "5           ALBANY,NY             49.331276\n",
              "6        PHILADELPHIA             43.574180\n",
              "7            HARTFORD             40.415985\n",
              "8  BIRMINGHAM/MONTGOM             31.225523\n",
              "9           ST. LOUIS             31.138204"
            ]
          },
          "metadata": {
            "tags": []
          },
          "execution_count": 25
        }
      ]
    },
    {
      "cell_type": "code",
      "metadata": {
        "id": "lUrv1hguXGwp",
        "colab_type": "code",
        "outputId": "f7f7c2e5-390c-4dec-ee13-9fe42a2376fd",
        "colab": {
          "base_uri": "https://localhost:8080/",
          "height": 398
        }
      },
      "source": [
        "print('The bottom 10 cities (along with the avg % profitability) where profitability decreased the most in the discount scheme :\\n ')\n",
        "c = []\n",
        "p = []\n",
        "\n",
        "for i in sorted(city_profitability.items(), key=lambda x: x[1])[:10]:\n",
        "  c.append(i[0])\n",
        "  p.append(i[1][0])\n",
        "  \n",
        "\n",
        "# Create DataFrame \n",
        "data = {'CITY':c, 'AVG_%_PROFITABILITY':p} \n",
        "df = pd.DataFrame(data)  \n",
        "df"
      ],
      "execution_count": 0,
      "outputs": [
        {
          "output_type": "stream",
          "text": [
            "The bottom 10 cities (along with the avg % profitability) where profitability decreased the most in the discount scheme :\n",
            " \n"
          ],
          "name": "stdout"
        },
        {
          "output_type": "execute_result",
          "data": {
            "text/html": [
              "<div>\n",
              "<style scoped>\n",
              "    .dataframe tbody tr th:only-of-type {\n",
              "        vertical-align: middle;\n",
              "    }\n",
              "\n",
              "    .dataframe tbody tr th {\n",
              "        vertical-align: top;\n",
              "    }\n",
              "\n",
              "    .dataframe thead th {\n",
              "        text-align: right;\n",
              "    }\n",
              "</style>\n",
              "<table border=\"1\" class=\"dataframe\">\n",
              "  <thead>\n",
              "    <tr style=\"text-align: right;\">\n",
              "      <th></th>\n",
              "      <th>CITY</th>\n",
              "      <th>AVG_%_PROFITABILITY</th>\n",
              "    </tr>\n",
              "  </thead>\n",
              "  <tbody>\n",
              "    <tr>\n",
              "      <th>0</th>\n",
              "      <td>NEW ENGLAND (NORTH)</td>\n",
              "      <td>-23.534963</td>\n",
              "    </tr>\n",
              "    <tr>\n",
              "      <th>1</th>\n",
              "      <td>NASHVILLE</td>\n",
              "      <td>-17.524173</td>\n",
              "    </tr>\n",
              "    <tr>\n",
              "      <th>2</th>\n",
              "      <td>MIAMI</td>\n",
              "      <td>-13.634372</td>\n",
              "    </tr>\n",
              "    <tr>\n",
              "      <th>3</th>\n",
              "      <td>HARRISBURG/SCRANTN</td>\n",
              "      <td>-7.069188</td>\n",
              "    </tr>\n",
              "    <tr>\n",
              "      <th>4</th>\n",
              "      <td>CHARLOTTE</td>\n",
              "      <td>-6.423914</td>\n",
              "    </tr>\n",
              "    <tr>\n",
              "      <th>5</th>\n",
              "      <td>INDIANAPOLIS</td>\n",
              "      <td>-6.203457</td>\n",
              "    </tr>\n",
              "    <tr>\n",
              "      <th>6</th>\n",
              "      <td>NEW ORLEANS</td>\n",
              "      <td>-4.718886</td>\n",
              "    </tr>\n",
              "    <tr>\n",
              "      <th>7</th>\n",
              "      <td>LITTLE ROCK</td>\n",
              "      <td>-3.815757</td>\n",
              "    </tr>\n",
              "    <tr>\n",
              "      <th>8</th>\n",
              "      <td>TAMPA/ST. PETE</td>\n",
              "      <td>-2.795625</td>\n",
              "    </tr>\n",
              "    <tr>\n",
              "      <th>9</th>\n",
              "      <td>ROANOKE (NEW)</td>\n",
              "      <td>-1.194958</td>\n",
              "    </tr>\n",
              "  </tbody>\n",
              "</table>\n",
              "</div>"
            ],
            "text/plain": [
              "                   CITY  AVG_%_PROFITABILITY\n",
              "0  NEW ENGLAND (NORTH)            -23.534963\n",
              "1            NASHVILLE            -17.524173\n",
              "2                MIAMI            -13.634372\n",
              "3   HARRISBURG/SCRANTN             -7.069188\n",
              "4            CHARLOTTE             -6.423914\n",
              "5         INDIANAPOLIS             -6.203457\n",
              "6          NEW ORLEANS             -4.718886\n",
              "7          LITTLE ROCK             -3.815757\n",
              "8       TAMPA/ST. PETE             -2.795625\n",
              "9        ROANOKE (NEW)             -1.194958"
            ]
          },
          "metadata": {
            "tags": []
          },
          "execution_count": 26
        }
      ]
    },
    {
      "cell_type": "markdown",
      "metadata": {
        "id": "bCyTS0gJcUiw",
        "colab_type": "text"
      },
      "source": [
        "It is worth noticing that the cities corresponding the top 10 high profitability companies are also among the top 10 cities where the profitability is high and vice versa."
      ]
    }
  ]
}